{
 "cells": [
  {
   "cell_type": "markdown",
   "id": "9c2b1165",
   "metadata": {},
   "source": [
    "# Test Pipeline"
   ]
  },
  {
   "cell_type": "code",
   "execution_count": 4,
   "id": "cf8843d5",
   "metadata": {},
   "outputs": [],
   "source": [
    "import os\n",
    "import sys\n",
    "sys.path.append(os.path.dirname(os.path.abspath(os.getcwd())))\n",
    "from sklearn.datasets import load_breast_cancer\n",
    "from src.preprocessor import Preprocessor\n",
    "from src.model_selector import ModelSelector\n",
    "from src.evaluator import Evaluator"
   ]
  },
  {
   "cell_type": "code",
   "execution_count": 5,
   "id": "bdb76eaa",
   "metadata": {},
   "outputs": [],
   "source": [
    "# Load dataset\n",
    "data = load_breast_cancer()\n",
    "X, y = data.data, data.target\n",
    "\n",
    "# Preprocess\n",
    "prep = Preprocessor()\n",
    "X_train, X_test, y_train, y_test = prep.split_data(X, y)\n",
    "X_train_scaled, X_test_scaled = prep.scale(X_train, X_test)\n",
    "\n",
    "# Train & Evaluate\n",
    "selector = ModelSelector()\n",
    "evaluator = Evaluator()\n",
    "\n",
    "results = {}\n",
    "for name, model in selector.get_models().items():\n",
    "    model.fit(X_train_scaled, y_train)\n",
    "    metrics = evaluator.evaluate(model, X_train_scaled, y_train)\n",
    "    results[name] = metrics"
   ]
  },
  {
   "cell_type": "code",
   "execution_count": 11,
   "id": "4bcf0a81",
   "metadata": {},
   "outputs": [
    {
     "data": {
      "text/plain": [
       "{'LogisticRegression': {'mean_score': np.float64(0.9736263736263737),\n",
       "  'std': np.float64(0.01785502946073838),\n",
       "  'all_scores': array([0.97802198, 0.96703297, 1.        , 0.97802198, 0.94505495])},\n",
       " 'RandomForest': {'mean_score': np.float64(0.9604395604395604),\n",
       "  'std': np.float64(0.01490621974313245),\n",
       "  'all_scores': array([0.97802198, 0.94505495, 0.97802198, 0.95604396, 0.94505495])},\n",
       " 'XGBoost': {'mean_score': np.float64(0.964835164835165),\n",
       "  'std': np.float64(0.014578570507056717),\n",
       "  'all_scores': array([0.95604396, 0.96703297, 0.98901099, 0.96703297, 0.94505495])}}"
      ]
     },
     "metadata": {},
     "output_type": "display_data"
    }
   ],
   "source": [
    "display(results)"
   ]
  }
 ],
 "metadata": {
  "kernelspec": {
   "display_name": "base",
   "language": "python",
   "name": "python3"
  },
  "language_info": {
   "codemirror_mode": {
    "name": "ipython",
    "version": 3
   },
   "file_extension": ".py",
   "mimetype": "text/x-python",
   "name": "python",
   "nbconvert_exporter": "python",
   "pygments_lexer": "ipython3",
   "version": "3.13.5"
  }
 },
 "nbformat": 4,
 "nbformat_minor": 5
}
